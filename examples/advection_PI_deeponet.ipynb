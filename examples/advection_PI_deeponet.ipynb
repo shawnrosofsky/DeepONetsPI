{
 "cells": [
  {
   "cell_type": "code",
   "execution_count": 1,
   "source": [
    "from __future__ import absolute_import\n",
    "from __future__ import division\n",
    "from __future__ import print_function\n",
    "from importlib import reload, import_module\n",
    "import itertools\n",
    "import glob\n",
    "import os\n",
    "import numpy as np\n",
    "import tensorflow as tf\n",
    "import scipy\n",
    "from scipy.interpolate import griddata\n",
    "import matplotlib.pyplot as plt\n",
    "import deepxde_master as dde\n",
    "# dde = import_module('deepxde_master')\n",
    "# dde = reload(dde) # reload if it is changed\n",
    "\n",
    "# import deepxde_master as dde\n",
    "\n",
    "from spaces import FinitePowerSeries, FiniteChebyshev, GRF\n",
    "from system_pde import LTSystem, ODESystem, DRSystem, CVCSystem, ADVDSystem\n",
    "from utils import merge_values, trim_to_65535, mean_squared_error_outlier, safe_test"
   ],
   "outputs": [
    {
     "output_type": "stream",
     "name": "stderr",
     "text": [
      "Using backend: tensorflow.compat.v1\n",
      "\n"
     ]
    },
    {
     "output_type": "stream",
     "name": "stdout",
     "text": [
      "WARNING:tensorflow:From /mnt/c/Users/shawn/.local/lib/python3.8/site-packages/tensorflow/python/compat/v2_compat.py:96: disable_resource_variables (from tensorflow.python.ops.variable_scope) is deprecated and will be removed in a future version.\n",
      "Instructions for updating:\n",
      "non-resource variables are not supported in the long term\n",
      "WARNING:tensorflow:From /mnt/c/Users/shawn/work/pinns/deepxde/examples/deeponet/deepxde_master/nn/initializers.py:120: The name tf.keras.initializers.he_normal is deprecated. Please use tf.compat.v1.keras.initializers.he_normal instead.\n",
      "\n"
     ]
    }
   ],
   "metadata": {}
  },
  {
   "cell_type": "markdown",
   "source": [
    "# Advection Equation\n",
    "$$\n",
    "\\frac{\\partial s}{\\partial t}+a(x) \\frac{\\partial s}{\\partial x}=0, \\quad x \\in[0,1], t \\in[0,1] \\\\\n",
    "s(x,0)=u(x)\n",
    "$$\n"
   ],
   "metadata": {}
  },
  {
   "cell_type": "markdown",
   "source": [
    "# Auxilliary Function"
   ],
   "metadata": {}
  },
  {
   "cell_type": "code",
   "execution_count": 2,
   "source": [
    "def create_dir(d):\n",
    "    \"\"\" Create a directory if it does not exist\n",
    "    Args:\n",
    "        d: directory to create\n",
    "    \"\"\"\n",
    "    if not os.path.exists(d):\n",
    "        os.makedirs(d)\n",
    "\n",
    "\n",
    "def test_u_cvc(nn, system, T, m, model, data, u, fname):\n",
    "    \"\"\"Test Advection\"\"\"\n",
    "    sensors = np.linspace(0, 1, num=m)\n",
    "#     sensor_value = u(np.sin(np.pi*sensors)**2)\n",
    "    sensor_value = u(sensors)\n",
    "    s = system.eval_s(sensor_value)\n",
    "    xt = np.array(list(itertools.product(range(m), range(system.Nt))))\n",
    "    xt = xt * [1 / (m - 1), T / (system.Nt - 1)]\n",
    "    X_test = [np.tile(sensor_value, (m * system.Nt, 1)), xt]\n",
    "    y_test = s.reshape([m * system.Nt, 1])\n",
    "    if nn != \"opnn\":\n",
    "        X_test = merge_values(X_test)\n",
    "    y_pred = model.predict(data.transform_inputs(X_test))\n",
    "    y_test_f = y_test.reshape((m, system.Nt))[:,-1]\n",
    "    y_pred_f = y_pred.reshape((m, system.Nt))[:,-1]\n",
    "    x, t = xt[:, 0], xt[:, 1]\n",
    "    x_f = x.reshape((m, system.Nt))[:,-1]\n",
    "    t_f = x.reshape((m, system.Nt))[:,-1]\n",
    "#     np.savetxt(fname, np.hstack((xt, y_test, y_pred)))\n",
    "    plt.figure()\n",
    "    plt.plot(x_f, y_test_f, 'b-', label='true value')\n",
    "    plt.plot(x_f, y_pred_f, 'r--', label='prediction')\n",
    "    plt.title(f\"$s(x,t_f)$ with $u(x)={fname[:-4]}$\")\n",
    "    plt.legend()\n",
    "\n",
    "def cvc_system(T, npoints_output):\n",
    "    \"\"\"Advection\"\"\"\n",
    "    f = None\n",
    "    g = None\n",
    "    Nt = 100\n",
    "    return CVCSystem(f, g, T, Nt, npoints_output)\n",
    "\n"
   ],
   "outputs": [],
   "metadata": {}
  },
  {
   "cell_type": "markdown",
   "source": [
    "# Problem Setup and Hyperparameters"
   ],
   "metadata": {}
  },
  {
   "cell_type": "code",
   "execution_count": 3,
   "source": [
    "problem = \"cvc\"\n",
    "T = 1\n",
    "# system = ode_system(T)\n",
    "npoints_output = 10\n",
    "system = cvc_system(T, npoints_output)\n",
    "\n",
    "def pde(inputs, s):\n",
    "    a = 1.0\n",
    "    u = inputs[0]\n",
    "    coord = inputs[1]\n",
    "    x = coord[:,0:1]\n",
    "    t = coord[:,1:2]\n",
    "    print(f\"inputs: {inputs}\")\n",
    "    print(f\"s: {s}\")\n",
    "    ds_dt = dde.grad.jacobian(s, coord, i=0, j=1)\n",
    "    ds_dx = dde.grad.jacobian(s, coord, i=0, j=0)\n",
    "    # ds_dt = dde.grad.jacobian(s, t, i=0, j=0)\n",
    "    # ds_dx = dde.grad.jacobian(s, x, i=0, j=0)\n",
    "    eq = ds_dt + a*ds_dx\n",
    "    return eq\n",
    "\n",
    "def ic(inputs, s):\n",
    "    u = inputs[0]\n",
    "    coord = inputs[1]\n",
    "    eq = s - u\n",
    "    return eq\n",
    "\n",
    "def bc(inputs, s):\n",
    "    u = inputs[0]\n",
    "    coord = inputs[1]\n",
    "    eq = s[1] - s[0]\n",
    "    return eq\n",
    "\n",
    "ic_points = 1000\n",
    "bc_points = None\n",
    "# Function space\n",
    "space = GRF(T, length_scale=0.2, N=1000 * T, interp=\"cubic\")\n",
    "# space = GRF(T, length_scale=0.5, N=1000 * T, interp=\"cubic\")\n",
    "\n",
    "# Hyperparameters\n",
    "m = 100\n",
    "num_train = 1000 #10000\n",
    "num_test = 1000 # 10000\n",
    "lr = 0.001\n",
    "epochs = 10000\n",
    "\n",
    "# Network\n",
    "nn = \"opnn\"\n",
    "activation = \"tanh\" #\"relu\"\n",
    "initializer = \"Glorot normal\"  # \"He normal\" or \"Glorot normal\"\n",
    "model_name = 'deeponet' \n",
    "model_name_PI = 'deeponet-phys'\n",
    "dim_x = 1 if problem in [\"ode\", \"ode_nonlinear\", \"ode_pendulum\", \"lt\"] else 2\n",
    "net = dde.maps.DeepONet(\n",
    "        [m, 40, 40],\n",
    "        [dim_x, 40, 40],\n",
    "        activation=\"relu\",\n",
    "        kernel_initializer=initializer,\n",
    "        use_bias=True,\n",
    "        stacked=False,\n",
    "    )\n",
    "\n",
    "net_PI = dde.maps.DeepONet(\n",
    "        [m, 40, 40],\n",
    "        [dim_x, 40, 40],\n",
    "        activation,\n",
    "        initializer,\n",
    "        use_bias=True,\n",
    "        stacked=False,\n",
    "    )\n",
    "\n"
   ],
   "outputs": [],
   "metadata": {}
  },
  {
   "cell_type": "markdown",
   "source": [
    "# Generate Training Data"
   ],
   "metadata": {}
  },
  {
   "cell_type": "code",
   "execution_count": 4,
   "source": [
    "X_train, y_train, ic_coord = system.gen_operator_data(space, m, num_train)\n",
    "X_test, y_test, _ = system.gen_operator_data(space, m, num_test)\n",
    "ic_times = np.zeros((len(ic_coord), 1))\n",
    "ic_coord = np.hstack((ic_coord, ic_times))"
   ],
   "outputs": [
    {
     "output_type": "stream",
     "name": "stdout",
     "text": [
      "Generating operator data...\n",
      "'gen_operator_data' took 1.791565 s\n",
      "\n",
      "Generating operator data...\n",
      "'gen_operator_data' took 1.758837 s\n",
      "\n"
     ]
    }
   ],
   "metadata": {}
  },
  {
   "cell_type": "code",
   "execution_count": 5,
   "source": [
    "import matplotlib.pyplot as plt\n",
    "u,coord = X_train\n",
    "# plt.plot(sensors,u)\n",
    "u0 = u[0]\n",
    "x = coord[0]\n",
    "plt.plot(ic_coord[:,0:-1],u0)\n",
    "\n"
   ],
   "outputs": [
    {
     "output_type": "execute_result",
     "data": {
      "text/plain": [
       "[<matplotlib.lines.Line2D at 0x7f5d029254c0>]"
      ]
     },
     "metadata": {},
     "execution_count": 5
    },
    {
     "output_type": "display_data",
     "data": {
      "image/png": "[encoded data removed]",
      "text/plain": [
       "<Figure size 432x288 with 1 Axes>"
      ]
     },
     "metadata": {
      "needs_background": "light"
     }
    }
   ],
   "metadata": {}
  },
  {
   "cell_type": "markdown",
   "source": [
    "# DeepONeT"
   ],
   "metadata": {}
  },
  {
   "cell_type": "code",
   "execution_count": 6,
   "source": [
    "data = dde.data.Triple(\n",
    "        X_train=X_train, y_train=y_train, X_test=X_test, y_test=y_test\n",
    "    )\n",
    "\n",
    "model = dde.Model(data, net)\n",
    "model.compile(\"adam\", lr=lr, metrics=[mean_squared_error_outlier])\n",
    "ckpt_dir = f\"{problem}/{model_name}\"\n",
    "create_dir(ckpt_dir)\n",
    "ckpt_filename = \"model.ckpt\"\n",
    "ckpt_file = os.path.join(ckpt_dir,ckpt_filename)\n",
    "checker = dde.callbacks.ModelCheckpoint(\n",
    "    ckpt_file, save_better_only=True, period=1000\n",
    ")"
   ],
   "outputs": [
    {
     "output_type": "stream",
     "name": "stdout",
     "text": [
      "Compiling model...\n",
      "Building DeepONet...\n",
      "'build' took 0.117628 s\n",
      "\n"
     ]
    },
    {
     "output_type": "stream",
     "name": "stderr",
     "text": [
      "/mnt/c/Users/shawn/.local/lib/python3.8/site-packages/tensorflow/python/keras/legacy_tf_layers/core.py:171: UserWarning: `tf.layers.dense` is deprecated and will be removed in a future version. Please use `tf.keras.layers.Dense` instead.\n",
      "  warnings.warn('`tf.layers.dense` is deprecated and '\n",
      "/mnt/c/Users/shawn/.local/lib/python3.8/site-packages/tensorflow/python/keras/engine/base_layer_v1.py:1692: UserWarning: `layer.apply` is deprecated and will be removed in a future version. Please use `layer.__call__` method instead.\n",
      "  warnings.warn('`layer.apply` is deprecated and '\n"
     ]
    },
    {
     "output_type": "stream",
     "name": "stdout",
     "text": [
      "'compile' took 0.272900 s\n",
      "\n"
     ]
    }
   ],
   "metadata": {}
  },
  {
   "cell_type": "markdown",
   "source": [
    "# Physics Informed DeepONet "
   ],
   "metadata": {}
  },
  {
   "cell_type": "code",
   "execution_count": 11,
   "source": [
    "data_PI = dde.data.TriplePI(\n",
    "            X_train=X_train, \n",
    "            y_train=y_train, \n",
    "            X_test=X_test, \n",
    "            y_test=y_test, \n",
    "            pde=pde,\n",
    "            # ic=ic,\n",
    "            bc=None,\n",
    "            ic_coord=ic_coord,\n",
    "            bc_coord=None,\n",
    "            ic_points=1000,\n",
    "            bc_points=None\n",
    "            )\n",
    "model_PI = dde.Model(data_PI, net_PI)\n",
    "# model_PI.compile(\"adam\", lr=lr, metrics=[mean_squared_error_outlier])\n",
    "model_PI.compile(\"adam\", lr=lr)\n",
    "ckpt_dir_PI = f\"{problem}/{model_name_PI}\"\n",
    "create_dir(ckpt_dir_PI)\n",
    "ckpt_filename_PI = \"model.ckpt\"\n",
    "ckpt_file_PI = os.path.join(ckpt_dir_PI,ckpt_filename_PI)\n",
    "checker_PI = dde.callbacks.ModelCheckpoint(\n",
    "    ckpt_file_PI, save_better_only=True, period=1000\n",
    ")"
   ],
   "outputs": [
    {
     "output_type": "stream",
     "name": "stdout",
     "text": [
      "Compiling model...\n",
      "pde_inputs: (<tf.Tensor 'Placeholder_7:0' shape=(None, 100) dtype=float32>, <tf.Tensor 'Placeholder_8:0' shape=(None, 2) dtype=float32>)\n",
      "outputs: Tensor(\"add_1:0\", shape=(None, 1), dtype=float32)\n",
      "inputs: (<tf.Tensor 'Placeholder_7:0' shape=(None, 100) dtype=float32>, <tf.Tensor 'Placeholder_8:0' shape=(None, 2) dtype=float32>)\n",
      "s: Tensor(\"add_1:0\", shape=(None, 1), dtype=float32)\n",
      "'compile' took 0.259127 s\n",
      "\n"
     ]
    }
   ],
   "metadata": {}
  },
  {
   "cell_type": "markdown",
   "source": [
    "# Train the Models"
   ],
   "metadata": {}
  },
  {
   "cell_type": "markdown",
   "source": [
    "## Train the DeepONeT Model"
   ],
   "metadata": {}
  },
  {
   "cell_type": "code",
   "execution_count": 12,
   "source": [
    "losshistory, train_state = model.train(epochs=epochs, callbacks=[checker])"
   ],
   "outputs": [
    {
     "output_type": "stream",
     "name": "stdout",
     "text": [
      "Initializing variables...\n",
      "Training model...\n",
      "\n",
      "0         [8.51e-01]                        [8.39e-01]                        [8.23e-01]\n",
      "1000      [2.65e-02]                        [3.20e-02]                        [2.85e-02]\n",
      "INFO:tensorflow:cvc/deeponet/model.ckpt-1000 is not in all_model_checkpoint_paths. Manually adding it.\n",
      "2000      [1.78e-02]                        [2.17e-02]                        [1.92e-02]\n",
      "INFO:tensorflow:cvc/deeponet/model.ckpt-2000 is not in all_model_checkpoint_paths. Manually adding it.\n",
      "3000      [1.19e-02]                        [1.50e-02]                        [1.35e-02]\n",
      "INFO:tensorflow:cvc/deeponet/model.ckpt-3000 is not in all_model_checkpoint_paths. Manually adding it.\n",
      "4000      [9.11e-03]                        [1.21e-02]                        [1.11e-02]\n",
      "INFO:tensorflow:cvc/deeponet/model.ckpt-4000 is not in all_model_checkpoint_paths. Manually adding it.\n",
      "5000      [7.18e-03]                        [1.01e-02]                        [9.23e-03]\n",
      "INFO:tensorflow:cvc/deeponet/model.ckpt-5000 is not in all_model_checkpoint_paths. Manually adding it.\n",
      "6000      [6.08e-03]                        [8.81e-03]                        [7.99e-03]\n",
      "INFO:tensorflow:cvc/deeponet/model.ckpt-6000 is not in all_model_checkpoint_paths. Manually adding it.\n",
      "7000      [4.36e-03]                        [6.92e-03]                        [6.16e-03]\n",
      "INFO:tensorflow:cvc/deeponet/model.ckpt-7000 is not in all_model_checkpoint_paths. Manually adding it.\n",
      "8000      [3.93e-03]                        [6.15e-03]                        [5.42e-03]\n",
      "INFO:tensorflow:cvc/deeponet/model.ckpt-8000 is not in all_model_checkpoint_paths. Manually adding it.\n",
      "9000      [3.28e-03]                        [5.39e-03]                        [4.67e-03]\n",
      "INFO:tensorflow:cvc/deeponet/model.ckpt-9000 is not in all_model_checkpoint_paths. Manually adding it.\n",
      "10000     [2.90e-03]                        [4.82e-03]                        [4.11e-03]\n",
      "INFO:tensorflow:cvc/deeponet/model.ckpt-10000 is not in all_model_checkpoint_paths. Manually adding it.\n",
      "\n",
      "Best model at step 10000:\n",
      "  train loss: 2.90e-03\n",
      "  test loss: 4.82e-03\n",
      "  test metric: [4.11e-03]\n",
      "\n",
      "'train' took 84.214345 s\n",
      "\n"
     ]
    }
   ],
   "metadata": {}
  },
  {
   "cell_type": "markdown",
   "source": [
    "## Train the Physics Informed DeepONet Model"
   ],
   "metadata": {}
  },
  {
   "cell_type": "code",
   "execution_count": 13,
   "source": [
    "losshistory_PI, train_state_PI = model_PI.train(epochs=epochs, callbacks=[checker_PI])"
   ],
   "outputs": [
    {
     "output_type": "stream",
     "name": "stdout",
     "text": [
      "Initializing variables...\n",
      "Training model...\n",
      "\n",
      "Step      Train loss                        Test loss                         Test metric\n",
      "0         [2.05e+00, 1.32e+00, 1.45e+00]    [1.98e+00, 1.30e+00, 1.36e+00]    []  \n",
      "1000      [4.78e-01, 3.44e-03, 6.29e-01]    [4.98e-01, 3.38e-03, 6.19e-01]    []  \n",
      "INFO:tensorflow:cvc/deeponet-phys/model.ckpt-1000 is not in all_model_checkpoint_paths. Manually adding it.\n",
      "2000      [2.14e-01, 4.94e-03, 6.39e-01]    [2.28e-01, 4.91e-03, 6.37e-01]    []  \n",
      "INFO:tensorflow:cvc/deeponet-phys/model.ckpt-2000 is not in all_model_checkpoint_paths. Manually adding it.\n"
     ]
    },
    {
     "output_type": "stream",
     "name": "stderr",
     "text": [
      "Process ForkPoolWorker-9:\n",
      "Process ForkPoolWorker-11:\n",
      "Process ForkPoolWorker-12:\n",
      "Process ForkPoolWorker-10:\n",
      "Traceback (most recent call last):\n",
      "Traceback (most recent call last):\n",
      "  File \"/mnt/c/Users/shawn/.local/lib/python3.8/site-packages/multiprocess/queues.py\", line 358, in get\n",
      "    with self._rlock:\n",
      "  File \"/mnt/c/Users/shawn/.local/lib/python3.8/site-packages/multiprocess/queues.py\", line 358, in get\n",
      "    with self._rlock:\n",
      "Traceback (most recent call last):\n",
      "  File \"/mnt/c/Users/shawn/.local/lib/python3.8/site-packages/multiprocess/process.py\", line 315, in _bootstrap\n",
      "    self.run()\n",
      "  File \"/mnt/c/Users/shawn/.local/lib/python3.8/site-packages/multiprocess/process.py\", line 315, in _bootstrap\n",
      "    self.run()\n",
      "  File \"/mnt/c/Users/shawn/.local/lib/python3.8/site-packages/multiprocess/process.py\", line 315, in _bootstrap\n",
      "    self.run()\n",
      "Traceback (most recent call last):\n",
      "  File \"/mnt/c/Users/shawn/.local/lib/python3.8/site-packages/multiprocess/process.py\", line 108, in run\n",
      "    self._target(*self._args, **self._kwargs)\n",
      "  File \"/mnt/c/Users/shawn/.local/lib/python3.8/site-packages/multiprocess/process.py\", line 108, in run\n",
      "    self._target(*self._args, **self._kwargs)\n",
      "  File \"/mnt/c/Users/shawn/.local/lib/python3.8/site-packages/multiprocess/process.py\", line 108, in run\n",
      "    self._target(*self._args, **self._kwargs)\n",
      "  File \"/mnt/c/Users/shawn/.local/lib/python3.8/site-packages/multiprocess/pool.py\", line 114, in worker\n",
      "    task = get()\n",
      "  File \"/mnt/c/Users/shawn/.local/lib/python3.8/site-packages/multiprocess/pool.py\", line 114, in worker\n",
      "    task = get()\n",
      "  File \"/mnt/c/Users/shawn/.local/lib/python3.8/site-packages/multiprocess/process.py\", line 315, in _bootstrap\n",
      "    self.run()\n",
      "  File \"/mnt/c/Users/shawn/.local/lib/python3.8/site-packages/multiprocess/pool.py\", line 114, in worker\n",
      "    task = get()\n",
      "  File \"/mnt/c/Users/shawn/.local/lib/python3.8/site-packages/multiprocess/queues.py\", line 358, in get\n",
      "    with self._rlock:\n",
      "  File \"/mnt/c/Users/shawn/.local/lib/python3.8/site-packages/multiprocess/synchronize.py\", line 101, in __enter__\n",
      "    return self._semlock.__enter__()\n",
      "  File \"/mnt/c/Users/shawn/.local/lib/python3.8/site-packages/multiprocess/process.py\", line 108, in run\n",
      "    self._target(*self._args, **self._kwargs)\n",
      "  File \"/mnt/c/Users/shawn/.local/lib/python3.8/site-packages/multiprocess/synchronize.py\", line 101, in __enter__\n",
      "    return self._semlock.__enter__()\n",
      "  File \"/mnt/c/Users/shawn/.local/lib/python3.8/site-packages/multiprocess/synchronize.py\", line 101, in __enter__\n",
      "    return self._semlock.__enter__()\n",
      "KeyboardInterrupt\n",
      "KeyboardInterrupt\n",
      "KeyboardInterrupt\n",
      "  File \"/mnt/c/Users/shawn/.local/lib/python3.8/site-packages/multiprocess/pool.py\", line 114, in worker\n",
      "    task = get()\n",
      "  File \"/mnt/c/Users/shawn/.local/lib/python3.8/site-packages/multiprocess/queues.py\", line 359, in get\n",
      "    res = self._reader.recv_bytes()\n",
      "  File \"/mnt/c/Users/shawn/.local/lib/python3.8/site-packages/multiprocess/connection.py\", line 219, in recv_bytes\n",
      "    buf = self._recv_bytes(maxlength)\n",
      "  File \"/mnt/c/Users/shawn/.local/lib/python3.8/site-packages/multiprocess/connection.py\", line 417, in _recv_bytes\n",
      "    buf = self._recv(4)\n",
      "  File \"/mnt/c/Users/shawn/.local/lib/python3.8/site-packages/multiprocess/connection.py\", line 382, in _recv\n",
      "    chunk = read(handle, remaining)\n",
      "KeyboardInterrupt\n"
     ]
    },
    {
     "output_type": "error",
     "ename": "KeyboardInterrupt",
     "evalue": "",
     "traceback": [
      "\u001b[0;31m---------------------------------------------------------------------------\u001b[0m",
      "\u001b[0;31mKeyboardInterrupt\u001b[0m                         Traceback (most recent call last)",
      "\u001b[0;32m<ipython-input-13-394a5f79fd9d>\u001b[0m in \u001b[0;36m<module>\u001b[0;34m\u001b[0m\n\u001b[0;32m----> 1\u001b[0;31m \u001b[0mlosshistory_PI\u001b[0m\u001b[0;34m,\u001b[0m \u001b[0mtrain_state_PI\u001b[0m \u001b[0;34m=\u001b[0m \u001b[0mmodel_PI\u001b[0m\u001b[0;34m.\u001b[0m\u001b[0mtrain\u001b[0m\u001b[0;34m(\u001b[0m\u001b[0mepochs\u001b[0m\u001b[0;34m=\u001b[0m\u001b[0mepochs\u001b[0m\u001b[0;34m,\u001b[0m \u001b[0mcallbacks\u001b[0m\u001b[0;34m=\u001b[0m\u001b[0;34m[\u001b[0m\u001b[0mchecker_PI\u001b[0m\u001b[0;34m]\u001b[0m\u001b[0;34m)\u001b[0m\u001b[0;34m\u001b[0m\u001b[0;34m\u001b[0m\u001b[0m\n\u001b[0m",
      "\u001b[0;32m~/work/pinns/deepxde/examples/deeponet/deepxde_master/utils/internal.py\u001b[0m in \u001b[0;36mwrapper\u001b[0;34m(*args, **kwargs)\u001b[0m\n\u001b[1;32m     24\u001b[0m     \u001b[0;32mdef\u001b[0m \u001b[0mwrapper\u001b[0m\u001b[0;34m(\u001b[0m\u001b[0;34m*\u001b[0m\u001b[0margs\u001b[0m\u001b[0;34m,\u001b[0m \u001b[0;34m**\u001b[0m\u001b[0mkwargs\u001b[0m\u001b[0;34m)\u001b[0m\u001b[0;34m:\u001b[0m\u001b[0;34m\u001b[0m\u001b[0;34m\u001b[0m\u001b[0m\n\u001b[1;32m     25\u001b[0m         \u001b[0mts\u001b[0m \u001b[0;34m=\u001b[0m \u001b[0mtimeit\u001b[0m\u001b[0;34m.\u001b[0m\u001b[0mdefault_timer\u001b[0m\u001b[0;34m(\u001b[0m\u001b[0;34m)\u001b[0m\u001b[0;34m\u001b[0m\u001b[0;34m\u001b[0m\u001b[0m\n\u001b[0;32m---> 26\u001b[0;31m         \u001b[0mresult\u001b[0m \u001b[0;34m=\u001b[0m \u001b[0mf\u001b[0m\u001b[0;34m(\u001b[0m\u001b[0;34m*\u001b[0m\u001b[0margs\u001b[0m\u001b[0;34m,\u001b[0m \u001b[0;34m**\u001b[0m\u001b[0mkwargs\u001b[0m\u001b[0;34m)\u001b[0m\u001b[0;34m\u001b[0m\u001b[0;34m\u001b[0m\u001b[0m\n\u001b[0m\u001b[1;32m     27\u001b[0m         \u001b[0mte\u001b[0m \u001b[0;34m=\u001b[0m \u001b[0mtimeit\u001b[0m\u001b[0;34m.\u001b[0m\u001b[0mdefault_timer\u001b[0m\u001b[0;34m(\u001b[0m\u001b[0;34m)\u001b[0m\u001b[0;34m\u001b[0m\u001b[0;34m\u001b[0m\u001b[0m\n\u001b[1;32m     28\u001b[0m         \u001b[0mprint\u001b[0m\u001b[0;34m(\u001b[0m\u001b[0;34m\"%r took %f s\\n\"\u001b[0m \u001b[0;34m%\u001b[0m \u001b[0;34m(\u001b[0m\u001b[0mf\u001b[0m\u001b[0;34m.\u001b[0m\u001b[0m__name__\u001b[0m\u001b[0;34m,\u001b[0m \u001b[0mte\u001b[0m \u001b[0;34m-\u001b[0m \u001b[0mts\u001b[0m\u001b[0;34m)\u001b[0m\u001b[0;34m)\u001b[0m\u001b[0;34m\u001b[0m\u001b[0;34m\u001b[0m\u001b[0m\n",
      "\u001b[0;32m~/work/pinns/deepxde/examples/deeponet/deepxde_master/model.py\u001b[0m in \u001b[0;36mtrain\u001b[0;34m(self, epochs, batch_size, display_every, disregard_previous_best, callbacks, model_restore_path, model_save_path)\u001b[0m\n\u001b[1;32m    363\u001b[0m             \u001b[0;32mif\u001b[0m \u001b[0mepochs\u001b[0m \u001b[0;32mis\u001b[0m \u001b[0;32mNone\u001b[0m\u001b[0;34m:\u001b[0m\u001b[0;34m\u001b[0m\u001b[0;34m\u001b[0m\u001b[0m\n\u001b[1;32m    364\u001b[0m                 \u001b[0;32mraise\u001b[0m \u001b[0mValueError\u001b[0m\u001b[0;34m(\u001b[0m\u001b[0;34m\"No epochs for {}.\"\u001b[0m\u001b[0;34m.\u001b[0m\u001b[0mformat\u001b[0m\u001b[0;34m(\u001b[0m\u001b[0mself\u001b[0m\u001b[0;34m.\u001b[0m\u001b[0mopt_name\u001b[0m\u001b[0;34m)\u001b[0m\u001b[0;34m)\u001b[0m\u001b[0;34m\u001b[0m\u001b[0;34m\u001b[0m\u001b[0m\n\u001b[0;32m--> 365\u001b[0;31m             \u001b[0mself\u001b[0m\u001b[0;34m.\u001b[0m\u001b[0m_train_sgd\u001b[0m\u001b[0;34m(\u001b[0m\u001b[0mepochs\u001b[0m\u001b[0;34m,\u001b[0m \u001b[0mdisplay_every\u001b[0m\u001b[0;34m)\u001b[0m\u001b[0;34m\u001b[0m\u001b[0;34m\u001b[0m\u001b[0m\n\u001b[0m\u001b[1;32m    366\u001b[0m         \u001b[0mself\u001b[0m\u001b[0;34m.\u001b[0m\u001b[0mcallbacks\u001b[0m\u001b[0;34m.\u001b[0m\u001b[0mon_train_end\u001b[0m\u001b[0;34m(\u001b[0m\u001b[0;34m)\u001b[0m\u001b[0;34m\u001b[0m\u001b[0;34m\u001b[0m\u001b[0m\n\u001b[1;32m    367\u001b[0m \u001b[0;34m\u001b[0m\u001b[0m\n",
      "\u001b[0;32m~/work/pinns/deepxde/examples/deeponet/deepxde_master/model.py\u001b[0m in \u001b[0;36m_train_sgd\u001b[0;34m(self, epochs, display_every)\u001b[0m\n\u001b[1;32m    378\u001b[0m \u001b[0;34m\u001b[0m\u001b[0m\n\u001b[1;32m    379\u001b[0m             self.train_state.set_data_train(\n\u001b[0;32m--> 380\u001b[0;31m                 \u001b[0;34m*\u001b[0m\u001b[0mself\u001b[0m\u001b[0;34m.\u001b[0m\u001b[0mdata\u001b[0m\u001b[0;34m.\u001b[0m\u001b[0mtrain_next_batch\u001b[0m\u001b[0;34m(\u001b[0m\u001b[0mself\u001b[0m\u001b[0;34m.\u001b[0m\u001b[0mbatch_size\u001b[0m\u001b[0;34m)\u001b[0m\u001b[0;34m\u001b[0m\u001b[0;34m\u001b[0m\u001b[0m\n\u001b[0m\u001b[1;32m    381\u001b[0m             )\n\u001b[1;32m    382\u001b[0m             self._train_step(\n",
      "\u001b[0;32m~/work/pinns/deepxde/examples/deeponet/deepxde_master/data/triple_PI.py\u001b[0m in \u001b[0;36mtrain_next_batch\u001b[0;34m(self, batch_size)\u001b[0m\n\u001b[1;32m    171\u001b[0m \u001b[0;34m\u001b[0m\u001b[0m\n\u001b[1;32m    172\u001b[0m         \u001b[0;32mif\u001b[0m \u001b[0mself\u001b[0m\u001b[0;34m.\u001b[0m\u001b[0mic\u001b[0m \u001b[0;32mis\u001b[0m \u001b[0;32mnot\u001b[0m \u001b[0;32mNone\u001b[0m\u001b[0;34m:\u001b[0m\u001b[0;34m\u001b[0m\u001b[0;34m\u001b[0m\u001b[0m\n\u001b[0;32m--> 173\u001b[0;31m             \u001b[0mtrain_u_ic\u001b[0m \u001b[0;34m=\u001b[0m \u001b[0mnp\u001b[0m\u001b[0;34m.\u001b[0m\u001b[0munique\u001b[0m\u001b[0;34m(\u001b[0m\u001b[0mtrain_u\u001b[0m\u001b[0;34m,\u001b[0m \u001b[0maxis\u001b[0m\u001b[0;34m=\u001b[0m\u001b[0;36m0\u001b[0m\u001b[0;34m)\u001b[0m\u001b[0;34m\u001b[0m\u001b[0;34m\u001b[0m\u001b[0m\n\u001b[0m\u001b[1;32m    174\u001b[0m             \u001b[0mnum_ic\u001b[0m \u001b[0;34m=\u001b[0m \u001b[0mlen\u001b[0m\u001b[0;34m(\u001b[0m\u001b[0mtrain_u_ic\u001b[0m\u001b[0;34m)\u001b[0m\u001b[0;34m\u001b[0m\u001b[0;34m\u001b[0m\u001b[0m\n\u001b[1;32m    175\u001b[0m             \u001b[0;31m# num_ic_coord = len(self.ic_coord)\u001b[0m\u001b[0;34m\u001b[0m\u001b[0;34m\u001b[0m\u001b[0;34m\u001b[0m\u001b[0m\n",
      "\u001b[0;32m<__array_function__ internals>\u001b[0m in \u001b[0;36munique\u001b[0;34m(*args, **kwargs)\u001b[0m\n",
      "\u001b[0;32m~/.local/lib/python3.8/site-packages/numpy/lib/arraysetops.py\u001b[0m in \u001b[0;36munique\u001b[0;34m(ar, return_index, return_inverse, return_counts, axis)\u001b[0m\n\u001b[1;32m    301\u001b[0m         \u001b[0;32mreturn\u001b[0m \u001b[0muniq\u001b[0m\u001b[0;34m\u001b[0m\u001b[0;34m\u001b[0m\u001b[0m\n\u001b[1;32m    302\u001b[0m \u001b[0;34m\u001b[0m\u001b[0m\n\u001b[0;32m--> 303\u001b[0;31m     output = _unique1d(consolidated, return_index,\n\u001b[0m\u001b[1;32m    304\u001b[0m                        return_inverse, return_counts)\n\u001b[1;32m    305\u001b[0m     \u001b[0moutput\u001b[0m \u001b[0;34m=\u001b[0m \u001b[0;34m(\u001b[0m\u001b[0mreshape_uniq\u001b[0m\u001b[0;34m(\u001b[0m\u001b[0moutput\u001b[0m\u001b[0;34m[\u001b[0m\u001b[0;36m0\u001b[0m\u001b[0;34m]\u001b[0m\u001b[0;34m)\u001b[0m\u001b[0;34m,\u001b[0m\u001b[0;34m)\u001b[0m \u001b[0;34m+\u001b[0m \u001b[0moutput\u001b[0m\u001b[0;34m[\u001b[0m\u001b[0;36m1\u001b[0m\u001b[0;34m:\u001b[0m\u001b[0;34m]\u001b[0m\u001b[0;34m\u001b[0m\u001b[0;34m\u001b[0m\u001b[0m\n",
      "\u001b[0;32m~/.local/lib/python3.8/site-packages/numpy/lib/arraysetops.py\u001b[0m in \u001b[0;36m_unique1d\u001b[0;34m(ar, return_index, return_inverse, return_counts)\u001b[0m\n\u001b[1;32m    320\u001b[0m         \u001b[0maux\u001b[0m \u001b[0;34m=\u001b[0m \u001b[0mar\u001b[0m\u001b[0;34m[\u001b[0m\u001b[0mperm\u001b[0m\u001b[0;34m]\u001b[0m\u001b[0;34m\u001b[0m\u001b[0;34m\u001b[0m\u001b[0m\n\u001b[1;32m    321\u001b[0m     \u001b[0;32melse\u001b[0m\u001b[0;34m:\u001b[0m\u001b[0;34m\u001b[0m\u001b[0;34m\u001b[0m\u001b[0m\n\u001b[0;32m--> 322\u001b[0;31m         \u001b[0mar\u001b[0m\u001b[0;34m.\u001b[0m\u001b[0msort\u001b[0m\u001b[0;34m(\u001b[0m\u001b[0;34m)\u001b[0m\u001b[0;34m\u001b[0m\u001b[0;34m\u001b[0m\u001b[0m\n\u001b[0m\u001b[1;32m    323\u001b[0m         \u001b[0maux\u001b[0m \u001b[0;34m=\u001b[0m \u001b[0mar\u001b[0m\u001b[0;34m\u001b[0m\u001b[0;34m\u001b[0m\u001b[0m\n\u001b[1;32m    324\u001b[0m     \u001b[0mmask\u001b[0m \u001b[0;34m=\u001b[0m \u001b[0mnp\u001b[0m\u001b[0;34m.\u001b[0m\u001b[0mempty\u001b[0m\u001b[0;34m(\u001b[0m\u001b[0maux\u001b[0m\u001b[0;34m.\u001b[0m\u001b[0mshape\u001b[0m\u001b[0;34m,\u001b[0m \u001b[0mdtype\u001b[0m\u001b[0;34m=\u001b[0m\u001b[0mnp\u001b[0m\u001b[0;34m.\u001b[0m\u001b[0mbool_\u001b[0m\u001b[0;34m)\u001b[0m\u001b[0;34m\u001b[0m\u001b[0;34m\u001b[0m\u001b[0m\n",
      "\u001b[0;31mKeyboardInterrupt\u001b[0m: "
     ]
    }
   ],
   "metadata": {}
  },
  {
   "cell_type": "code",
   "execution_count": null,
   "source": [],
   "outputs": [],
   "metadata": {}
  }
 ],
 "metadata": {
  "orig_nbformat": 4,
  "kernelspec": {
   "name": "python3",
   "display_name": "Python 3.8.5 64-bit"
  },
  "interpreter": {
   "hash": "31f2aee4e71d21fbe5cf8b01ff0e069b9275f58929596ceb00d14d90e3e16cd6"
  },
  "language_info": {
   "name": "python",
   "version": "3.8.5",
   "mimetype": "text/x-python",
   "codemirror_mode": {
    "name": "ipython",
    "version": 3
   },
   "pygments_lexer": "ipython3",
   "nbconvert_exporter": "python",
   "file_extension": ".py"
  }
 },
 "nbformat": 4,
 "nbformat_minor": 2
}